{
 "cells": [
  {
   "cell_type": "markdown",
   "id": "a3903bcc",
   "metadata": {},
   "source": [
    "### Plotting the Food Dollar Farm Share Over Time\n",
    "\n",
    "This notebook creates a figure showing the share of household spending on food-at-home (FAH) and food-away-from home over time. The data were obtained from the USDA-ERS' [Food Expenditure Series](https://www.ers.usda.gov/data-products/food-expenditure-series).\n",
    "\n",
    "Click the badge below to open in Google Colab:\n",
    "\n",
    "[![Open In Colab](https://colab.research.google.com/assets/colab-badge.svg)](https://colab.research.google.com/github/chuckgrigsby0/agec-370/blob/main/notebooks/04_plot_fah_fafh_households.ipynb)\n",
    "\n",
    "We first import the necessary libraries and load the data\n"
   ]
  },
  {
   "cell_type": "code",
   "execution_count": null,
   "id": "3cd6380f",
   "metadata": {},
   "outputs": [],
   "source": [
    "import pandas as pd\n",
    "import numpy as np\n",
    "import matplotlib.pyplot as plt\n",
    "import seaborn as sns\n",
    "\n",
    "# Base URL for raw GitHub content\n",
    "base_url = \"https://raw.githubusercontent.com/chuckgrigsby0/agec-370/main/data/\"\n",
    "\n",
    "# Load monthly steer price data directly from GitHub URL\n",
    "fd = pd.read_csv(base_url + 'normalized_food_expenditures_ers.csv')\n"
   ]
  },
  {
   "cell_type": "markdown",
   "id": "d6808687",
   "metadata": {},
   "source": [
    "Now that we have loaded the data, we will select the `Year` column, along with the columns representing the share of household food-at-home and food-away-from-home expenditures."
   ]
  },
  {
   "cell_type": "code",
   "execution_count": null,
   "id": "3e57fc4d",
   "metadata": {},
   "outputs": [],
   "source": [
    "sel_columns = ['Year', \n",
    "               'Food-at-home share of nominal food expenditures, household final users (percentage)',\n",
    "               'Food-away-from-home share of nominal food expenditures, household final users (percentage)']\n",
    "\n",
    "fes_clean = fes.loc[:, sel_columns]"
   ]
  },
  {
   "cell_type": "markdown",
   "id": "7436f800",
   "metadata": {},
   "source": [
    "#### Rename Columns\n",
    "\n",
    "We rename the columns for clarity and ease of use in plotting."
   ]
  },
  {
   "cell_type": "code",
   "execution_count": null,
   "id": "cc981c08",
   "metadata": {},
   "outputs": [],
   "source": [
    "fes_clean = fes_clean.rename(columns={\n",
    "    'Food-at-home share of nominal food expenditures, household final users (percentage)': 'FAH', \n",
    "    'Food-away-from-home share of nominal food expenditures, household final users (percentage)': 'FAFH'\n",
    "    })"
   ]
  },
  {
   "cell_type": "markdown",
   "id": "f2d0db7a",
   "metadata": {},
   "source": [
    "Before we can plot the data, we need to convert the data to long format using the `melt` function. This will allow us to plot both FAH and FAFH shares on the same graph. "
   ]
  },
  {
   "cell_type": "code",
   "execution_count": null,
   "id": "41686c4c",
   "metadata": {},
   "outputs": [],
   "source": [
    "fes_clean = (fes_clean.melt(id_vars='Year', \n",
    "                         value_vars=['FAH', 'FAFH'],\n",
    "                         var_name='expenditure_type',\n",
    "                         value_name='Value')\n",
    "                         .sort_values(by=['Year', 'expenditure_type'])\n",
    "            )"
   ]
  },
  {
   "cell_type": "markdown",
   "id": "31dbdfb8",
   "metadata": {},
   "source": [
    "### Create Figure\n",
    "\n",
    "We now have the data ready to plot the data. "
   ]
  },
  {
   "cell_type": "code",
   "execution_count": null,
   "id": "74cfb567",
   "metadata": {},
   "outputs": [],
   "source": [
    "# Set seaborn style\n",
    "sns.set_style(\"whitegrid\")\n",
    "\n",
    "# Set figure size\n",
    "plt.figure(figsize=(14, 7))\n",
    "\n",
    "# Define color palette\n",
    "# Color scheme: teal for FAH, coral for FAFH\n",
    "colors = {'FAH': '#2A9D8F', 'FAFH': '#E76F51'}\n",
    "\n",
    "# Create line plot\n",
    "sns.lineplot(\n",
    "    data=fes_clean, \n",
    "    x='Year', \n",
    "    y='Value', \n",
    "    hue='expenditure_type',\n",
    "    palette=colors,\n",
    "    marker='o',           # Circular markers at each data point\n",
    "    markersize=8,         # Slightly larger markers for visibility\n",
    "    linewidth=2.5,        # Thicker lines for better visibility\n",
    "    alpha=0.9             # Slight transparency \n",
    ")\n",
    "\n",
    "# Add vertical line to mark COVID-19 pandemic onset (2020)\n",
    "# Use dashed line style with gray color for subtle appearance\n",
    "plt.axvline(\n",
    "    x=2020, \n",
    "    color='gray', \n",
    "    linestyle='--',       # Dashed line style\n",
    "    linewidth=2,          # Medium thickness for visibility\n",
    "    alpha=0.7,            # Semi-transparent\n",
    "    zorder=1              # Place behind data lines\n",
    ")\n",
    "\n",
    "# Add text annotation for COVID-19 pandemic\n",
    "# Position slightly to the right of the line, in upper portion of plot\n",
    "plt.text(\n",
    "    2020.3,               # X-position: slightly right of the line\n",
    "    44,                 # Y-position: lower portion of plot\n",
    "    'COVID-19\\nPandemic', # Text split across two lines for better fit\n",
    "    fontsize=11,          # Readable font size\n",
    "    fontweight='semibold',# Bold text for emphasis\n",
    "    color='#555555',      # Dark gray color for readability\n",
    "    verticalalignment='center',  # Center text vertically\n",
    "    bbox=dict(           # Add box around text for better visibility\n",
    "        boxstyle='round,pad=0.5',  # Rounded box with padding\n",
    "        facecolor='white',         # White background\n",
    "        edgecolor='gray',          # Gray border\n",
    "        alpha=0.8                  # Slightly transparent\n",
    "    )\n",
    ")\n",
    "\n",
    "# Enhance title with better formatting\n",
    "plt.title(\n",
    "    'Household Food Expenditure Shares: Food-at-Home (FAH) vs. Food-away-from-Home (FAFH) (1997-2023)',\n",
    "    fontsize=16, \n",
    "    fontweight='bold',\n",
    "    pad=20                # Add padding above title\n",
    ")\n",
    "\n",
    "# Improve axis labels\n",
    "plt.ylabel('Share of Household Food Expenditures', fontsize=14, fontweight='semibold')\n",
    "plt.xlabel('Year', fontsize=14, fontweight='semibold')\n",
    "\n",
    "# Set x-axis to show every year and rotate labels 90 degrees\n",
    "years = fes_clean['Year'].unique()\n",
    "plt.xticks(years, rotation=90, fontsize=12)\n",
    "\n",
    "# Improve y-axis tick labels\n",
    "plt.yticks(fontsize=12)\n",
    "\n",
    "# Enhance legend with better positioning and styling\n",
    "plt.legend(\n",
    "    title='Category',\n",
    "    title_fontsize=13,\n",
    "    fontsize=12,\n",
    "    loc='best',           # Automatically find best position\n",
    "    frameon=True,         # Add frame around legend\n",
    "    shadow=True,          # Add subtle shadow\n",
    "    fancybox=True         # Rounded corners on legend box\n",
    ")\n",
    "\n",
    "# Add a subtle note about data source\n",
    "plt.figtext(\n",
    "    0.99, 0.01, \n",
    "    'Data Source: USDA Economic Research Service', \n",
    "    ha='right', \n",
    "    fontsize=9, \n",
    "    style='italic',\n",
    "    alpha=0.7\n",
    ")\n",
    "\n",
    "# Adjust layout to prevent label cutoff\n",
    "plt.tight_layout()\n",
    "\n",
    "# Display the plot\n",
    "plt.show()"
   ]
  }
 ],
 "metadata": {
  "kernelspec": {
   "display_name": "ds-base",
   "language": "python",
   "name": "python3"
  },
  "language_info": {
   "codemirror_mode": {
    "name": "ipython",
    "version": 3
   },
   "file_extension": ".py",
   "mimetype": "text/x-python",
   "name": "python",
   "nbconvert_exporter": "python",
   "pygments_lexer": "ipython3",
   "version": "3.12.11"
  }
 },
 "nbformat": 4,
 "nbformat_minor": 5
}
