{
 "cells": [
  {
   "cell_type": "markdown",
   "id": "d5a92c7e",
   "metadata": {},
   "source": [
    "### Visualize annual corn harvests by state using USDA NASS data\n",
    "\n",
    "We will create time series plots of annual corn harvests over time for specific states.\n",
    "\n",
    "Click the badge below to open in Google Colab:\n",
    "\n",
    "[![Open In Colab](https://colab.research.google.com/assets/colab-badge.svg)](https://colab.research.google.com/github/chuckgrigsby0/agec-370/blob/main/notebooks/10_plot_annual_corn_acres_harvested_by_state.ipynb)\n",
    "\n",
    "\n",
    "We first load the annual corn harvest data (in acreage) obtained from USDA NASS."
   ]
  },
  {
   "cell_type": "code",
   "execution_count": 1,
   "id": "e2303585",
   "metadata": {},
   "outputs": [],
   "source": [
    "import pandas as pd\n",
    "import numpy as np\n",
    "\n",
    "# Import visualization libraries\n",
    "import matplotlib.pyplot as plt  # For figure creation and aesthetic enhancements\n",
    "import seaborn as sns  # For statistical plots with regression lines\n",
    "\n",
    "# Base URL for raw GitHub content\n",
    "base_url = \"https://raw.githubusercontent.com/chuckgrigsby0/agec-370/main/data/\"\n",
    "\n",
    "# Load annual corn harvest data directly from GitHub URL\n",
    "corn_acres = pd.read_csv(base_url + 'corn_acres_harvested_by_state.csv')"
   ]
  },
  {
   "cell_type": "markdown",
   "id": "167f4583",
   "metadata": {},
   "source": [
    "### Filter data for specific states and plot annual corn harvests over time"
   ]
  },
  {
   "cell_type": "markdown",
   "id": "46956e28",
   "metadata": {},
   "source": [
    "### Create Visualizations"
   ]
  },
  {
   "cell_type": "code",
   "execution_count": null,
   "id": "2da85cb9",
   "metadata": {},
   "outputs": [],
   "source": [
    "# Set the style for seaborn plots\n",
    "# 'whitegrid' provides a clean background with subtle gridlines\n",
    "sns.set_style('whitegrid')"
   ]
  }
 ],
 "metadata": {
  "kernelspec": {
   "display_name": "ds-base",
   "language": "python",
   "name": "python3"
  },
  "language_info": {
   "codemirror_mode": {
    "name": "ipython",
    "version": 3
   },
   "file_extension": ".py",
   "mimetype": "text/x-python",
   "name": "python",
   "nbconvert_exporter": "python",
   "pygments_lexer": "ipython3",
   "version": "3.12.12"
  }
 },
 "nbformat": 4,
 "nbformat_minor": 5
}
