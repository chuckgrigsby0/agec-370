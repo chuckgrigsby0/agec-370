{
 "cells": [
  {
   "cell_type": "markdown",
   "id": "a3903bcc",
   "metadata": {},
   "source": [
    "### Plotting the Food Dollar Farm Share Over Time\n",
    "\n",
    "This notebook compares the farm share and marketing share of the food dollar over time for both food-at-home and food-away-from-home purchases. Data were obtained from the USDA-ERS' [Food Dollar Series](https://www.ers.usda.gov/data-products/food-dollar-series/download-the-data).\n",
    "\n",
    "Click the badge below to open in Google Colab:\n",
    "\n",
    "[![Open In Colab](https://colab.research.google.com/assets/colab-badge.svg)](https://colab.research.google.com/github/chuckgrigsby0/agec-370/blob/main/notebooks/05_plot_food_dollar_farm_share.ipynb)\n",
    "\n",
    "We first import the necessary libraries and load the data\n"
   ]
  },
  {
   "cell_type": "code",
   "execution_count": null,
   "id": "3cd6380f",
   "metadata": {},
   "outputs": [],
   "source": [
    "import pandas as pd\n",
    "import numpy as np\n",
    "import matplotlib.pyplot as plt\n",
    "import seaborn as sns\n",
    "\n",
    "# Base URL for raw GitHub content\n",
    "base_url = \"https://raw.githubusercontent.com/chuckgrigsby0/agec-370/main/data/\"\n",
    "\n",
    "# Load monthly steer price data directly from GitHub URL\n",
    "fd = pd.read_csv(base_url + 'food_dollar_real_ers.csv')\n"
   ]
  },
  {
   "cell_type": "markdown",
   "id": "d6808687",
   "metadata": {},
   "source": [
    "Next, we filter the data to include the `Food dollar`, `Food at home dollar`, and `Food away from home dollar` tables and the `Total` and `Farm share` categories.\n",
    "\n",
    "#### Filter data"
   ]
  },
  {
   "cell_type": "code",
   "execution_count": null,
   "id": "3e57fc4d",
   "metadata": {},
   "outputs": [],
   "source": [
    "farm_share_filter = ['Total', 'Farm share']\n",
    "table_name_filter = ['Food dollar', 'Food at home dollar', 'Food away from home dollar']\n",
    "\n",
    "fd_clean = fd.query(\n",
    "    \"(Table_name in @table_name_filter) & \"\n",
    "    \"(Units == 'Cents per Domestic Real Food Dollar') & \"\n",
    "    \"(Category_desc in @farm_share_filter)\").reset_index(drop=True)"
   ]
  },
  {
   "cell_type": "markdown",
   "id": "2f1280ad",
   "metadata": {},
   "source": [
    " ### Pivot to wide format\n",
    "\n",
    " We then pivot the data to obtain separate columns for `Total` and `Farm share`, and calculate the `Marketing` share as the difference between `Total` and `Farm share`. Note that we need to include both `Year` and `Table_name` in the index argument. "
   ]
  },
  {
   "cell_type": "code",
   "execution_count": null,
   "id": "156034fb",
   "metadata": {},
   "outputs": [],
   "source": [
    "# Pivot the data wider so Total and Farm share become separate columns\n",
    "fd_wide = fd_clean.pivot(index=['Year', 'Table_name'], columns='Category_desc', values='Total').reset_index()\n",
    "\n",
    "# Calculate Marketing as Total - Farm share\n",
    "fd_wide['Marketing'] = fd_wide['Total'] - fd_wide['Farm share']"
   ]
  },
  {
   "cell_type": "markdown",
   "id": "388aa635",
   "metadata": {},
   "source": [
    "### Melting the data for plotting\n",
    "\n",
    "Finally, we re-pivot (melt) the data back into long format and convert cents to dollars before creating the line plot. "
   ]
  },
  {
   "cell_type": "code",
   "execution_count": null,
   "id": "c4be646f",
   "metadata": {},
   "outputs": [],
   "source": [
    "# Now pivot back to long format for plotting\n",
    "fd_plot = fd_wide.melt(\n",
    "    id_vars=['Year', 'Table_name'], \n",
    "    value_vars=['Farm share', 'Marketing'],  # Only include these two for plotting\n",
    "    var_name='farm_share', \n",
    "    value_name='Value'\n",
    ")\n",
    "\n",
    "# This sorts the data by year and farm share category\n",
    "fd_plot.sort_values(by=['Year', 'Table_name', 'farm_share'], inplace=True)\n",
    "\n",
    "# Convert cents to dollars\n",
    "fd_plot['Value'] = fd_plot['Value'] / 100  # Convert cents to dollars"
   ]
  },
  {
   "cell_type": "markdown",
   "id": "f05071a4",
   "metadata": {},
   "source": [
    "We will first plot the farm share of the food dollar for both food-at-home and food-away-from-home purchases. The `!= 'Marketing'` filter is used to exclude the marketing share data."
   ]
  },
  {
   "cell_type": "code",
   "execution_count": null,
   "id": "7c2a5d3b",
   "metadata": {},
   "outputs": [],
   "source": [
    "fd_plot_farm_share = fd_plot.query(\"farm_share != 'Marketing'\")"
   ]
  },
  {
   "cell_type": "markdown",
   "id": "31dbdfb8",
   "metadata": {},
   "source": [
    "### Figure of Farm Share for Total Food Dollor, FAH and FAFH"
   ]
  },
  {
   "cell_type": "code",
   "execution_count": null,
   "id": "74cfb567",
   "metadata": {},
   "outputs": [],
   "source": [
    "# Set seaborn style\n",
    "sns.set_style(\"whitegrid\")\n",
    "\n",
    "# Set figure size\n",
    "plt.figure(figsize=(14, 7))\n",
    "\n",
    "# Define color palette and dash styles\n",
    "colors = {'Food dollar': '#2A9D8F', 'Food at home dollar': '#E76F51', 'Food away from home dollar': \"#0E0868\"}\n",
    "dash_styles = {'Food dollar': (1,0), 'Food at home dollar': (1, 2), 'Food away from home dollar': (3, 1, 1, 1)}\n",
    "\n",
    "# Create line plot\n",
    "sns.lineplot(\n",
    "    data=fd_plot_farm_share, \n",
    "    x='Year', \n",
    "    y='Value', \n",
    "    hue='Table_name',\n",
    "    style='Table_name',\n",
    "    hue_order=['Food dollar', 'Food at home dollar', 'Food away from home dollar'],\n",
    "    style_order=['Food dollar', 'Food at home dollar', 'Food away from home dollar'],\n",
    "    palette=colors,\n",
    "    dashes=dash_styles,\n",
    "    marker='o',           # Circular markers at each data point\n",
    "    markersize=8,         # Slightly larger markers for visibility\n",
    "    linewidth=2.5,        # Thicker lines for better visibility\n",
    "    alpha=0.9             # Slight transparency \n",
    ")\n",
    "\n",
    "# Enhance title with better formatting\n",
    "plt.title(\n",
    "    'Farm Share for Total Food Dollar, Food at Home, and Food Away from Home Expenditures (1993-2023)',\n",
    "    fontsize=16, \n",
    "    fontweight='bold',\n",
    "    pad=20                # Add padding above title\n",
    ")\n",
    "\n",
    "# Define axis labels\n",
    "plt.ylabel('Cents per Dollar', fontsize=14, fontweight='semibold')\n",
    "plt.xlabel('Year', fontsize=14, fontweight='semibold')\n",
    "\n",
    "# Set x-axis to show every year and rotate labels 90 degrees\n",
    "years = fd_plot_farm_share['Year'].unique()\n",
    "plt.xticks(years, rotation=90, fontsize=12)\n",
    "\n",
    "# Define y-axis tick labels\n",
    "plt.yticks(fontsize=12)\n",
    "\n",
    "# Define legend positioning and styling characteristics\n",
    "plt.legend(\n",
    "    title='Category',\n",
    "    title_fontsize=13,\n",
    "    fontsize=12,\n",
    "    loc='best',           # Automatically find best position\n",
    "    frameon=True,         # Add frame around legend\n",
    "    shadow=True,          # Add subtle shadow\n",
    "    fancybox=True         # Rounded corners on legend box\n",
    ")\n",
    "\n",
    "# Add a note about data source\n",
    "plt.figtext(\n",
    "    0.99, 0.01, \n",
    "    'Data Source: USDA Economic Research Service', \n",
    "    ha='right', \n",
    "    fontsize=9, \n",
    "    style='italic',\n",
    "    alpha=0.7\n",
    ")\n",
    "\n",
    "# Adjust layout to prevent label cutoff\n",
    "plt.tight_layout()\n",
    "\n",
    "# Display the plot\n",
    "plt.show()"
   ]
  },
  {
   "cell_type": "markdown",
   "id": "16ca7619",
   "metadata": {},
   "source": [
    "Next, we plot the marketing share of the food dollar, which equals `1 - Farm Share`, for both food-at-home and food-away-from-home purchases. "
   ]
  },
  {
   "cell_type": "code",
   "execution_count": null,
   "id": "a9bf4748",
   "metadata": {},
   "outputs": [],
   "source": [
    "fd_plot_market_share = fd_plot.query(\"farm_share == 'Marketing'\")"
   ]
  },
  {
   "cell_type": "markdown",
   "id": "b9ea11be",
   "metadata": {},
   "source": [
    "### Figure of Marketing Share for Total Food Dollor, FAH and FAFH"
   ]
  },
  {
   "cell_type": "code",
   "execution_count": null,
   "id": "e09ad03d",
   "metadata": {},
   "outputs": [],
   "source": [
    "# Set seaborn style\n",
    "sns.set_style(\"whitegrid\")\n",
    "\n",
    "# Set figure size\n",
    "plt.figure(figsize=(14, 7))\n",
    "\n",
    "# Define color palette and dash styles\n",
    "colors = {'Food dollar': '#2A9D8F', 'Food at home dollar': '#E76F51', 'Food away from home dollar': \"#0E0868\"}\n",
    "dash_styles = {'Food dollar': (1,0), 'Food at home dollar': (1, 2), 'Food away from home dollar': (3, 1, 1, 1)}\n",
    "\n",
    "# Create line plot\n",
    "sns.lineplot(\n",
    "    data=fd_plot_market_share, \n",
    "    x='Year', \n",
    "    y='Value', \n",
    "    hue='Table_name',\n",
    "    style='Table_name',\n",
    "    hue_order=['Food dollar', 'Food at home dollar', 'Food away from home dollar'],\n",
    "    style_order=['Food dollar', 'Food at home dollar', 'Food away from home dollar'],\n",
    "    palette=colors,\n",
    "    dashes=dash_styles,\n",
    "    marker='o',           # Circular markers at each data point\n",
    "    markersize=8,         # Slightly larger markers for visibility\n",
    "    linewidth=2.5,        # Thicker lines for better visibility\n",
    "    alpha=0.9             # Slight transparency \n",
    ")\n",
    "\n",
    "# Enhance title with better formatting\n",
    "plt.title(\n",
    "    'Marketing Share for Total Food Dollar, Food at Home, and Food Away from Home Expenditures (1993-2023)',\n",
    "    fontsize=16, \n",
    "    fontweight='bold',\n",
    "    pad=20                # Add padding above title\n",
    ")\n",
    "\n",
    "# Define axis labels\n",
    "plt.ylabel('Cents per Dollar', fontsize=14, fontweight='semibold')\n",
    "plt.xlabel('Year', fontsize=14, fontweight='semibold')\n",
    "\n",
    "# Set x-axis to show every year and rotate labels 90 degrees\n",
    "years = fd_plot_market_share['Year'].unique()\n",
    "plt.xticks(years, rotation=90, fontsize=12)\n",
    "\n",
    "# Define y-axis tick labels\n",
    "plt.yticks(fontsize=12)\n",
    "\n",
    "# Define legend positioning and styling characteristics\n",
    "plt.legend(\n",
    "    title='Category',\n",
    "    title_fontsize=13,\n",
    "    fontsize=12,\n",
    "    loc='best',           # Automatically find best position\n",
    "    frameon=True,         # Add frame around legend\n",
    "    shadow=True,          # Add subtle shadow\n",
    "    fancybox=True         # Rounded corners on legend box\n",
    ")\n",
    "\n",
    "# Add a note about data source\n",
    "plt.figtext(\n",
    "    0.99, 0.01, \n",
    "    'Data Source: USDA Economic Research Service', \n",
    "    ha='right', \n",
    "    fontsize=9, \n",
    "    style='italic',\n",
    "    alpha=0.7\n",
    ")\n",
    "\n",
    "# Adjust layout to prevent label cutoff\n",
    "plt.tight_layout()\n",
    "\n",
    "# Display the plot\n",
    "plt.show()"
   ]
  }
 ],
 "metadata": {
  "kernelspec": {
   "display_name": "ds-base",
   "language": "python",
   "name": "python3"
  },
  "language_info": {
   "codemirror_mode": {
    "name": "ipython",
    "version": 3
   },
   "file_extension": ".py",
   "mimetype": "text/x-python",
   "name": "python",
   "nbconvert_exporter": "python",
   "pygments_lexer": "ipython3",
   "version": "3.12.11"
  }
 },
 "nbformat": 4,
 "nbformat_minor": 5
}
