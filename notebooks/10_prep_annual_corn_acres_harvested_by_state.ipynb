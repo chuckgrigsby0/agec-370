{
 "cells": [
  {
   "cell_type": "code",
   "execution_count": null,
   "id": "e2303585",
   "metadata": {},
   "outputs": [],
   "source": [
    "import pandas as pd\n",
    "import numpy as np\n",
    "import requests\n",
    "from dotenv import load_dotenv\n",
    "import sys \n",
    "from pathlib import Path\n",
    "import os\n",
    "\n",
    "# ------------------------------ #\n",
    "# Must run together to access NASS API key\n",
    "# ------------------------------ #\n",
    "src_path = Path.cwd() / 'src'\n",
    "sys.path.insert(0, str(src_path))\n",
    "from utils.nass_api import NASS_API_KEY\n",
    "# ------------------------------ #"
   ]
  },
  {
   "cell_type": "code",
   "execution_count": null,
   "id": "8e689427",
   "metadata": {},
   "outputs": [],
   "source": [
    "base_url = \"https://quickstats.nass.usda.gov/api/api_GET/\"\n",
    "\n",
    "params = {'key': NASS_API_KEY,\n",
    "          'source_desc': 'SURVEY',\n",
    "          'sector_desc': 'CROPS',\n",
    "          'group_desc': 'FIELD CROPS',\n",
    "          'commodity_desc': 'CORN',\n",
    "          'statisticcat_desc': 'AREA HARVESTED',\n",
    "          'short_desc': 'CORN, GRAIN - ACRES HARVESTED',\n",
    "          'agg_level_desc': 'STATE'\n",
    "         }\n",
    "\n",
    "response = requests.get(base_url, params=params)\n",
    "\n",
    "corn_ac = response.json()\n",
    "\n",
    "corn_ac = pd.DataFrame(corn_ac['data'])"
   ]
  },
  {
   "cell_type": "markdown",
   "id": "571eb0fe",
   "metadata": {},
   "source": [
    "### Prepare annual corn harvest data (acres harvested) by state"
   ]
  },
  {
   "cell_type": "code",
   "execution_count": null,
   "id": "2bf24658",
   "metadata": {},
   "outputs": [],
   "source": [
    "select_vars = ['year', 'state_name', 'reference_period_desc', 'freq_desc',  \n",
    "               'unit_desc', 'sector_desc',  'class_desc', 'commodity_desc', \n",
    "               'short_desc', 'group_desc', 'statisticcat_desc', 'Value']\n",
    "\n",
    "corn_ac_sel = corn_ac.loc[:, select_vars]\n",
    "\n",
    "year_filter = corn_ac_sel['reference_period_desc'] == 'YEAR'\n",
    "other_states_filter = corn_ac_sel['state_name'] != 'OTHER STATES'\n",
    "\n",
    "corn_ac_sel = corn_ac_sel.loc[(year_filter) & (other_states_filter), ]"
   ]
  },
  {
   "cell_type": "markdown",
   "id": "0a5f55c9",
   "metadata": {},
   "source": [
    "#### Check if there are any missing values in columns anywhere. "
   ]
  },
  {
   "cell_type": "code",
   "execution_count": null,
   "id": "293dc659",
   "metadata": {},
   "outputs": [],
   "source": [
    "corn_ac_sel.isna().sum()"
   ]
  },
  {
   "cell_type": "code",
   "execution_count": null,
   "id": "06dfa2d5",
   "metadata": {},
   "outputs": [],
   "source": [
    "corn_ac_sel['Value'].isin([\"(D)\", \"(Z)\"]).any()"
   ]
  },
  {
   "cell_type": "markdown",
   "id": "2eb9dfde",
   "metadata": {},
   "source": [
    "### Save to CSV"
   ]
  },
  {
   "cell_type": "code",
   "execution_count": null,
   "id": "73c3e4bb",
   "metadata": {},
   "outputs": [],
   "source": [
    "# Save csv\n",
    "corn_ac_sel.to_csv('data/corn_acres_harvested_by_state.csv', index=False)"
   ]
  }
 ],
 "metadata": {
  "kernelspec": {
   "display_name": "ds-base",
   "language": "python",
   "name": "python3"
  },
  "language_info": {
   "codemirror_mode": {
    "name": "ipython",
    "version": 3
   },
   "file_extension": ".py",
   "mimetype": "text/x-python",
   "name": "python",
   "nbconvert_exporter": "python",
   "pygments_lexer": "ipython3",
   "version": "3.12.12"
  }
 },
 "nbformat": 4,
 "nbformat_minor": 5
}
