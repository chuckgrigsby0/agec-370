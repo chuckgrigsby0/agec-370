{
 "cells": [
  {
   "cell_type": "markdown",
   "id": "3c13e299",
   "metadata": {},
   "source": [
    "Notebook to obtain state-level cattle inventory data for 2022 from NASS Quick Stats."
   ]
  },
  {
   "cell_type": "code",
   "execution_count": null,
   "id": "e2303585",
   "metadata": {},
   "outputs": [],
   "source": [
    "import pandas as pd\n",
    "import requests\n",
    "from dotenv import load_dotenv\n",
    "import sys \n",
    "from pathlib import Path\n",
    "import os\n",
    "\n",
    "# ------------------------------ #\n",
    "# Must run together to access NASS API key\n",
    "# ------------------------------ #\n",
    "src_path = Path.cwd() / 'src'\n",
    "sys.path.insert(0, str(src_path))\n",
    "from utils.nass_api import NASS_API_KEY\n",
    "# ------------------------------ #"
   ]
  },
  {
   "cell_type": "markdown",
   "id": "50da73ef",
   "metadata": {},
   "source": [
    "### Cattle, on Feed"
   ]
  },
  {
   "cell_type": "code",
   "execution_count": null,
   "id": "8e689427",
   "metadata": {},
   "outputs": [],
   "source": [
    "base_url = \"https://quickstats.nass.usda.gov/api/api_GET/\"\n",
    "\n",
    "params = {'key': NASS_API_KEY,\n",
    "          'source_desc': 'CENSUS',\n",
    "          'sector_desc': 'ANIMALS & PRODUCTS',\n",
    "          'group_desc': 'LIVESTOCK',\n",
    "          'commodity_desc': 'CATTLE',\n",
    "          'statisticcat_desc': 'INVENTORY',\n",
    "          'short_desc': 'CATTLE, ON FEED - INVENTORY',\n",
    "          'domain_desc': 'TOTAL',\n",
    "          'agg_level_desc': 'STATE', \n",
    "          'year': '2022'\n",
    "         }\n",
    "\n",
    "response = requests.get(base_url, params=params)\n",
    "\n",
    "cattle_on_feed = response.json()\n",
    "\n",
    "cattle_on_feed = pd.DataFrame(cattle_on_feed['data'])"
   ]
  },
  {
   "cell_type": "markdown",
   "id": "58bf4fad",
   "metadata": {},
   "source": [
    "### Cattle, Cows"
   ]
  },
  {
   "cell_type": "code",
   "execution_count": null,
   "id": "c6cce5a2",
   "metadata": {},
   "outputs": [],
   "source": [
    "base_url = \"https://quickstats.nass.usda.gov/api/api_GET/\"\n",
    "\n",
    "params = {'key': NASS_API_KEY,\n",
    "          'source_desc': 'CENSUS',\n",
    "          'sector_desc': 'ANIMALS & PRODUCTS',\n",
    "          'group_desc': 'LIVESTOCK',\n",
    "          'commodity_desc': 'CATTLE',\n",
    "          'statisticcat_desc': 'INVENTORY',\n",
    "          'short_desc': 'CATTLE, COWS - INVENTORY',\n",
    "          'domain_desc': 'TOTAL',\n",
    "          'agg_level_desc': 'STATE', \n",
    "          'year': '2022'\n",
    "         }\n",
    "\n",
    "response = requests.get(base_url, params=params)\n",
    "\n",
    "cattle_cows = response.json()\n",
    "\n",
    "cattle_cows = pd.DataFrame(cattle_cows['data'])"
   ]
  },
  {
   "cell_type": "markdown",
   "id": "8d66b9f7",
   "metadata": {},
   "source": [
    "### Combine the two datasets"
   ]
  },
  {
   "cell_type": "code",
   "execution_count": null,
   "id": "852030ac",
   "metadata": {},
   "outputs": [],
   "source": [
    "cattle_by_type = pd.concat([cattle_on_feed, cattle_cows], ignore_index=True)"
   ]
  },
  {
   "cell_type": "markdown",
   "id": "b4026364",
   "metadata": {},
   "source": [
    "### Select relevant columns, insert `year` column, and clean `Value` column"
   ]
  },
  {
   "cell_type": "code",
   "execution_count": null,
   "id": "07312e03",
   "metadata": {},
   "outputs": [],
   "source": [
    "select_vars = ['state_name', 'state_fips_code', 'unit_desc', 'sector_desc',  'class_desc', 'commodity_desc', 'short_desc', 'statisticcat_desc', 'Value']"
   ]
  },
  {
   "cell_type": "markdown",
   "id": "571eb0fe",
   "metadata": {},
   "source": [
    "### Prepare cow and fed-cattle data"
   ]
  },
  {
   "cell_type": "code",
   "execution_count": null,
   "id": "2bf24658",
   "metadata": {},
   "outputs": [],
   "source": [
    "cattle_by_type = cattle_by_type.loc[:, select_vars]\n"
   ]
  },
  {
   "cell_type": "code",
   "execution_count": null,
   "id": "f2860e5b",
   "metadata": {},
   "outputs": [],
   "source": [
    "cattle_by_type.insert(0, 'year', 2022)"
   ]
  },
  {
   "cell_type": "markdown",
   "id": "c0f18c8b",
   "metadata": {},
   "source": [
    "Convert any non-numeric values (like \"(D)\" for suppressed data) to 0. "
   ]
  },
  {
   "cell_type": "code",
   "execution_count": null,
   "id": "06dfa2d5",
   "metadata": {},
   "outputs": [],
   "source": [
    "cattle_by_type['Value'].str.strip().eq(\"(D)\").any()"
   ]
  },
  {
   "cell_type": "code",
   "execution_count": null,
   "id": "5f81c38c",
   "metadata": {},
   "outputs": [],
   "source": [
    "# Handle multiple possible issues at once\n",
    "cattle_by_type['Value'] = (cattle_by_type['Value']\n",
    "                           .str.strip()\n",
    "                           .str.replace(\",\", \"\", regex=False)\n",
    "                           .replace(\"(D)\", \"0\")\n",
    "                           .replace(\"\", \"0\")  # handle empty strings if any\n",
    "                           .astype(float))"
   ]
  },
  {
   "cell_type": "markdown",
   "id": "20e875cc",
   "metadata": {},
   "source": [
    "Check for missing values in the `Value` column. "
   ]
  },
  {
   "cell_type": "code",
   "execution_count": null,
   "id": "450e37c5",
   "metadata": {},
   "outputs": [],
   "source": [
    "print(f'''There are {cattle_by_type['Value'].isna().sum()} missing values in the 'Value' column.''')\n",
    "# Drop any rows with missing values\n",
    "# This removes any observations where the value (# of head) was suppressed or missing\n",
    "# cattle_by_type = cattle_by_type.dropna(subset=['Value'])"
   ]
  },
  {
   "cell_type": "markdown",
   "id": "2eb9dfde",
   "metadata": {},
   "source": [
    "### Save to CSV"
   ]
  },
  {
   "cell_type": "code",
   "execution_count": null,
   "id": "73c3e4bb",
   "metadata": {},
   "outputs": [],
   "source": [
    "# Save csv\n",
    "cattle_by_type.to_csv('data/cattle_inventories_2022_nass.csv', index=False)"
   ]
  }
 ],
 "metadata": {
  "kernelspec": {
   "display_name": "ds-base",
   "language": "python",
   "name": "python3"
  },
  "language_info": {
   "codemirror_mode": {
    "name": "ipython",
    "version": 3
   },
   "file_extension": ".py",
   "mimetype": "text/x-python",
   "name": "python",
   "nbconvert_exporter": "python",
   "pygments_lexer": "ipython3",
   "version": "3.12.12"
  }
 },
 "nbformat": 4,
 "nbformat_minor": 5
}
