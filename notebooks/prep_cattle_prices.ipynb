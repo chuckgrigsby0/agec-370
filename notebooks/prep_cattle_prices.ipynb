{
 "cells": [
  {
   "cell_type": "code",
   "execution_count": 42,
   "id": "e2303585",
   "metadata": {},
   "outputs": [],
   "source": [
    "import pandas as pd\n",
    "import requests\n",
    "from dotenv import load_dotenv\n",
    "import sys \n",
    "from pathlib import Path\n",
    "import os\n",
    "\n",
    "# ------------------------------ #\n",
    "# Must run together to access NASS API key\n",
    "# ------------------------------ #\n",
    "src_path = Path.cwd() / 'src'\n",
    "sys.path.insert(0, str(src_path))\n",
    "from utils.nass_api import NASS_API_KEY\n",
    "# ------------------------------ #"
   ]
  },
  {
   "cell_type": "code",
   "execution_count": 43,
   "id": "8e689427",
   "metadata": {},
   "outputs": [],
   "source": [
    "base_url = \"https://quickstats.nass.usda.gov/api/api_GET/\"\n",
    "\n",
    "params = {'key': NASS_API_KEY,\n",
    "          'source_desc': 'SURVEY',\n",
    "          'sector_desc': 'ANIMALS & PRODUCTS',\n",
    "          'group_desc': 'LIVESTOCK',\n",
    "          'commodity_desc': 'CATTLE',\n",
    "          'statisticcat_desc': 'PRICE RECEIVED',\n",
    "          'agg_level_desc': 'NATIONAL'\n",
    "         }\n",
    "\n",
    "response = requests.get(base_url, params=params)\n",
    "\n",
    "cattle_price = response.json()\n",
    "\n",
    "cattle_price = pd.DataFrame(cattle_price['data'])"
   ]
  },
  {
   "cell_type": "markdown",
   "id": "571eb0fe",
   "metadata": {},
   "source": [
    "### Prepare annual steer price data"
   ]
  },
  {
   "cell_type": "code",
   "execution_count": 44,
   "id": "2bf24658",
   "metadata": {},
   "outputs": [],
   "source": [
    "select_vars = ['year', 'reference_period_desc', 'begin_code', 'freq_desc',  'unit_desc', 'sector_desc',  'class_desc', 'commodity_desc', 'short_desc', 'statisticcat_desc', 'Value']\n",
    "\n",
    "cattle_price_sel = cattle_price[select_vars]"
   ]
  },
  {
   "cell_type": "markdown",
   "id": "d4f2f845",
   "metadata": {},
   "source": [
    "Filter cattle data to only include records with \"STEERS\" in the description. \n",
    "\n",
    "This uses str.contains() with regex=True to find any description containing \"STEERS\""
   ]
  },
  {
   "cell_type": "code",
   "execution_count": 45,
   "id": "3656bf56",
   "metadata": {},
   "outputs": [
    {
     "name": "stdout",
     "output_type": "stream",
     "text": [
      "['CATTLE, STEERS & HEIFERS, GE 500 LBS - PRICE RECEIVED, MEASURED IN $ / CWT']\n"
     ]
    }
   ],
   "source": [
    "steer_prices = cattle_price_sel[cattle_price_sel[\"short_desc\"].str.contains('STEERS', regex=True)]\n",
    "\n",
    "print(steer_prices['short_desc'].unique())"
   ]
  },
  {
   "cell_type": "markdown",
   "id": "c4a94179",
   "metadata": {},
   "source": [
    "Filter to annual frequency only (exclude monthly, quarterly, etc.)."
   ]
  },
  {
   "cell_type": "code",
   "execution_count": 46,
   "id": "1abf2b37",
   "metadata": {},
   "outputs": [],
   "source": [
    "steer_prices_annual = steer_prices.loc[steer_prices['freq_desc'] == 'ANNUAL'].copy()"
   ]
  },
  {
   "cell_type": "markdown",
   "id": "7530450a",
   "metadata": {},
   "source": [
    "Check that we are not missing any years. "
   ]
  },
  {
   "cell_type": "code",
   "execution_count": 47,
   "id": "05d82dbf",
   "metadata": {},
   "outputs": [
    {
     "name": "stdout",
     "output_type": "stream",
     "text": [
      "Missing years: []\n",
      "Total missing years: 0\n",
      "Years available: 2003 to 2024\n",
      "Total years available: 22\n"
     ]
    }
   ],
   "source": [
    "# # Get the years present in the data\n",
    "actual_years = set(steer_prices_annual['year'].astype(int).unique())\n",
    "\n",
    "\n",
    "# # Create the full range of expected years\n",
    "expected_years = set(range(min(actual_years), max(actual_years)+1))  # 2026 to include 2025\n",
    "\n",
    "# Find missing years\n",
    "missing_years = expected_years - actual_years\n",
    "\n",
    "\n",
    "print(f\"Missing years: {sorted(missing_years)}\")\n",
    "print(f\"Total missing years: {len(missing_years)}\")\n",
    "\n",
    "# Also show the range of years we actually have\n",
    "print(f\"Years available: {min(actual_years)} to {max(actual_years)}\")\n",
    "print(f\"Total years available: {len(actual_years)}\")"
   ]
  },
  {
   "cell_type": "markdown",
   "id": "59600930",
   "metadata": {},
   "source": [
    "Convert the 'year' column to integer type for merging with CPI data. The copy() above allows us to modify without SettingWithCopyWarning. "
   ]
  },
  {
   "cell_type": "code",
   "execution_count": 48,
   "id": "018704e1",
   "metadata": {},
   "outputs": [],
   "source": [
    "steer_prices_annual['year'] = steer_prices_annual['year'].astype(int)"
   ]
  },
  {
   "cell_type": "markdown",
   "id": "c0f18c8b",
   "metadata": {},
   "source": [
    "Convert the 'Value' column from string to numeric. `errors='coerce'` will convert any non-numeric values (like \"(D)\" for suppressed data) to `NaN`. "
   ]
  },
  {
   "cell_type": "code",
   "execution_count": 49,
   "id": "06dfa2d5",
   "metadata": {},
   "outputs": [
    {
     "data": {
      "text/plain": [
       "np.False_"
      ]
     },
     "execution_count": 49,
     "metadata": {},
     "output_type": "execute_result"
    }
   ],
   "source": [
    "steer_prices['Value'].eq(\"'(D)'\").any()"
   ]
  },
  {
   "cell_type": "code",
   "execution_count": 50,
   "id": "e3292b21",
   "metadata": {},
   "outputs": [],
   "source": [
    "steer_prices_annual['Value'] = pd.to_numeric(steer_prices_annual['Value'], errors='coerce')"
   ]
  },
  {
   "cell_type": "markdown",
   "id": "20e875cc",
   "metadata": {},
   "source": [
    "Check for missing values in the `Value` column. "
   ]
  },
  {
   "cell_type": "code",
   "execution_count": 51,
   "id": "450e37c5",
   "metadata": {},
   "outputs": [
    {
     "name": "stdout",
     "output_type": "stream",
     "text": [
      "There are 0 missing values in the 'Value' column.\n"
     ]
    }
   ],
   "source": [
    "print(f'''There are {steer_prices_annual['Value'].isna().sum()} missing values in the 'Value' column.''')\n",
    "# Drop any rows with missing price values\n",
    "# This removes any observations where the price was suppressed or missing\n",
    "# steer_prices_annual = steer_prices_annual.dropna(subset=['Value'])"
   ]
  },
  {
   "cell_type": "markdown",
   "id": "a39a8e37",
   "metadata": {},
   "source": [
    "Rename `Value` column to `nominal_price` for clarity. This makes it explicit that these are nominal (not inflation-adjusted) prices. "
   ]
  },
  {
   "cell_type": "code",
   "execution_count": 52,
   "id": "c5731036",
   "metadata": {},
   "outputs": [],
   "source": [
    "steer_prices_annual = steer_prices_annual.rename(columns={'Value': 'nominal_price'})"
   ]
  },
  {
   "cell_type": "markdown",
   "id": "2eb9dfde",
   "metadata": {},
   "source": [
    "### Save to CSV"
   ]
  },
  {
   "cell_type": "code",
   "execution_count": 53,
   "id": "73c3e4bb",
   "metadata": {},
   "outputs": [],
   "source": [
    "# Save csv\n",
    "steer_prices_annual.to_csv('data/steer_prices_annual_nass.csv', index=False)"
   ]
  }
 ],
 "metadata": {
  "kernelspec": {
   "display_name": "ds-base",
   "language": "python",
   "name": "python3"
  },
  "language_info": {
   "codemirror_mode": {
    "name": "ipython",
    "version": 3
   },
   "file_extension": ".py",
   "mimetype": "text/x-python",
   "name": "python",
   "nbconvert_exporter": "python",
   "pygments_lexer": "ipython3",
   "version": "3.12.11"
  }
 },
 "nbformat": 4,
 "nbformat_minor": 5
}
