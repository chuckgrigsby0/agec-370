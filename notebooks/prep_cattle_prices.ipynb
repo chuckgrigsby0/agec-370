{
 "cells": [
  {
   "cell_type": "code",
   "execution_count": 1,
   "id": "e2303585",
   "metadata": {},
   "outputs": [],
   "source": [
    "import pandas as pd\n",
    "import requests\n",
    "from dotenv import load_dotenv\n",
    "import sys \n",
    "from pathlib import Path\n",
    "import os\n",
    "\n",
    "# ------------------------------ #\n",
    "# Must run together to access NASS API key\n",
    "# ------------------------------ #\n",
    "src_path = Path.cwd() / 'src'\n",
    "sys.path.insert(0, str(src_path))\n",
    "from utils.nass_api import NASS_API_KEY\n",
    "# ------------------------------ #"
   ]
  },
  {
   "cell_type": "code",
   "execution_count": 3,
   "id": "8e689427",
   "metadata": {},
   "outputs": [],
   "source": [
    "base_url = \"https://quickstats.nass.usda.gov/api/api_GET/\"\n",
    "\n",
    "params = {'key': NASS_API_KEY,\n",
    "          'source_desc': 'SURVEY',\n",
    "          'sector_desc': 'ANIMALS & PRODUCTS',\n",
    "          'group_desc': 'LIVESTOCK',\n",
    "          'commodity_desc': 'CATTLE',\n",
    "          'statisticcat_desc': 'PRICE RECEIVED',\n",
    "          'agg_level_desc': 'NATIONAL'\n",
    "         }\n",
    "\n",
    "response = requests.get(base_url, params=params)\n",
    "\n",
    "cattle_price = response.json()\n",
    "\n",
    "cattle_price = pd.DataFrame(cattle_price['data'])\n",
    "\n",
    "# Save csv\n",
    "cattle_price.to_csv('data/cattle_price_national_nass.csv', index=False)"
   ]
  }
 ],
 "metadata": {
  "kernelspec": {
   "display_name": "ds-base",
   "language": "python",
   "name": "python3"
  },
  "language_info": {
   "codemirror_mode": {
    "name": "ipython",
    "version": 3
   },
   "file_extension": ".py",
   "mimetype": "text/x-python",
   "name": "python",
   "nbconvert_exporter": "python",
   "pygments_lexer": "ipython3",
   "version": "3.12.11"
  }
 },
 "nbformat": 4,
 "nbformat_minor": 5
}
