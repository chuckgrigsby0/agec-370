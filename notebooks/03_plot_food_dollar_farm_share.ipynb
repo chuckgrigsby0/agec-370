{
 "cells": [
  {
   "cell_type": "markdown",
   "id": "a3903bcc",
   "metadata": {},
   "source": [
    "### Plotting the Food Dollar Farm Share Over Time\n",
    "\n",
    "This notebook creates a figure showing the farm share and marketing share of the food dollar over time. The data were obtained from the USDA-ERS' [Food Dollar Series](https://www.ers.usda.gov/data-products/food-dollar-series/download-the-data).\n",
    "\n",
    "Click the badge below to open in Google Colab:\n",
    "\n",
    "[![Open In Colab](https://colab.research.google.com/assets/colab-badge.svg)](https://colab.research.google.com/github/chuckgrigsby0/agec-370/blob/main/notebooks/03_plot_food_dollar_farm_share.ipynb)\n",
    "\n",
    "We first import the necessary libraries and load the data\n"
   ]
  },
  {
   "cell_type": "code",
   "execution_count": null,
   "id": "3cd6380f",
   "metadata": {},
   "outputs": [],
   "source": [
    "import pandas as pd\n",
    "import numpy as np\n",
    "import matplotlib.pyplot as plt\n",
    "import seaborn as sns\n",
    "\n",
    "# Base URL for raw GitHub content\n",
    "base_url = \"https://raw.githubusercontent.com/chuckgrigsby0/agec-370/main/data/\"\n",
    "\n",
    "# Load monthly steer price data directly from GitHub URL\n",
    "fd = pd.read_csv(base_url + 'food_dollar_real_ers.csv')\n"
   ]
  },
  {
   "cell_type": "markdown",
   "id": "d6808687",
   "metadata": {},
   "source": [
    "Next, we filter the data to include only the `Food dollar` table and the relevant farm share categories. We then pivot the data to have separate columns for `Total` and `Farm share`, and calculate the `Marketing` share as the difference between `Total` and `Farm share`. \n",
    "\n",
    "#### Filter data and pivot to wide format"
   ]
  },
  {
   "cell_type": "code",
   "execution_count": null,
   "id": "3e57fc4d",
   "metadata": {},
   "outputs": [],
   "source": [
    "farm_share_filter = ['Total', 'Farm share']\n",
    "\n",
    "fd_clean = fd.query(\n",
    "    \"(Table_name == 'Food dollar') & \"\n",
    "    \"(Units == 'Cents per Domestic Real Food Dollar') & \"\n",
    "    \"(Category_desc in @farm_share_filter)\").reset_index(drop=True)"
   ]
  },
  {
   "cell_type": "code",
   "execution_count": null,
   "id": "156034fb",
   "metadata": {},
   "outputs": [],
   "source": [
    "# Pivot the data wider so Total and Farm share become separate columns\n",
    "fd_wide = fd_clean.pivot(index='Year', columns='Category_desc', values='Total').reset_index()\n",
    "\n",
    "# Calculate Marketing as Total - Farm share\n",
    "fd_wide['Marketing'] = fd_wide['Total'] - fd_wide['Farm share']"
   ]
  },
  {
   "cell_type": "markdown",
   "id": "388aa635",
   "metadata": {},
   "source": [
    "### Melting the data for plotting\n",
    "\n",
    "Finally, we prepare the data for plotting by re-pivoting/melting it into long format, converting cents to dollars, and create a line plot showing the farm share and marketing share of the food dollar over time."
   ]
  },
  {
   "cell_type": "code",
   "execution_count": null,
   "id": "c4be646f",
   "metadata": {},
   "outputs": [],
   "source": [
    "# Now pivot back to long format for plotting\n",
    "fd_plot = fd_wide.melt(\n",
    "    id_vars='Year', \n",
    "    value_vars=['Farm share', 'Marketing'],  # Only include these two for plotting\n",
    "    var_name='farm_share', \n",
    "    value_name='Value'\n",
    ")\n",
    "\n",
    "# This sorts the data by year and farm share category\n",
    "fd_plot.sort_values(by=['Year', 'farm_share'], inplace=True)"
   ]
  },
  {
   "cell_type": "markdown",
   "id": "6b37449a",
   "metadata": {},
   "source": [
    "### Convert cents to dollars"
   ]
  },
  {
   "cell_type": "code",
   "execution_count": null,
   "id": "eb6f5a77",
   "metadata": {},
   "outputs": [],
   "source": [
    "fd_plot['Value'] = fd_plot['Value'] / 100  # Convert cents to dollars"
   ]
  },
  {
   "cell_type": "markdown",
   "id": "31dbdfb8",
   "metadata": {},
   "source": [
    "### Create Figure"
   ]
  },
  {
   "cell_type": "code",
   "execution_count": null,
   "id": "74cfb567",
   "metadata": {},
   "outputs": [],
   "source": [
    "# Set seaborn style\n",
    "sns.set_style(\"whitegrid\")\n",
    "\n",
    "# Set figure size\n",
    "plt.figure(figsize=(14, 7))\n",
    "\n",
    "# Define color palette\n",
    "# Color scheme: teal for farm share, coral for marketing\n",
    "colors = {'Farm share': '#2A9D8F', 'Marketing': '#E76F51'}\n",
    "\n",
    "# Create line plot\n",
    "sns.lineplot(\n",
    "    data=fd_plot, \n",
    "    x='Year', \n",
    "    y='Value', \n",
    "    hue='farm_share',\n",
    "    palette=colors,\n",
    "    marker='o',           # Circular markers at each data point\n",
    "    markersize=8,         # Slightly larger markers for visibility\n",
    "    linewidth=2.5,        # Thicker lines for better visibility\n",
    "    alpha=0.9             # Slight transparency \n",
    ")\n",
    "\n",
    "# Enhance title with better formatting\n",
    "plt.title(\n",
    "    'Food Dollar: Farm Share vs Marketing Share Over Time',\n",
    "    fontsize=16, \n",
    "    fontweight='bold',\n",
    "    pad=20                # Add padding above title\n",
    ")\n",
    "\n",
    "# Improve axis labels\n",
    "plt.ylabel('Share of Food Dollar', fontsize=14, fontweight='semibold')\n",
    "plt.xlabel('Year', fontsize=14, fontweight='semibold')\n",
    "\n",
    "# Set x-axis to show every year and rotate labels 90 degrees\n",
    "years = fd_plot['Year'].unique()\n",
    "plt.xticks(years, rotation=90, fontsize=12)\n",
    "\n",
    "# Improve y-axis tick labels\n",
    "plt.yticks(fontsize=12)\n",
    "\n",
    "# Enhance legend with better positioning and styling\n",
    "plt.legend(\n",
    "    title='Category',\n",
    "    title_fontsize=13,\n",
    "    fontsize=12,\n",
    "    loc='best',           # Automatically find best position\n",
    "    frameon=True,         # Add frame around legend\n",
    "    shadow=True,          # Add subtle shadow\n",
    "    fancybox=True         # Rounded corners on legend box\n",
    ")\n",
    "\n",
    "# Add a subtle note about data source\n",
    "plt.figtext(\n",
    "    0.99, 0.01, \n",
    "    'Data Source: USDA Economic Research Service', \n",
    "    ha='right', \n",
    "    fontsize=9, \n",
    "    style='italic',\n",
    "    alpha=0.7\n",
    ")\n",
    "\n",
    "# Adjust layout to prevent label cutoff\n",
    "plt.tight_layout()\n",
    "\n",
    "# Display the plot\n",
    "plt.show()"
   ]
  },
  {
   "cell_type": "code",
   "execution_count": null,
   "id": "612529b0",
   "metadata": {},
   "outputs": [],
   "source": [
    "# Percentage change in farm share from 1993 to 2023\n",
    "filter_1993 = (fd_plot['Year'] == 1993) & (fd_plot['farm_share'] == 'Farm share')\n",
    "farm_share_1993 = fd_plot[filter_1993]['Value'].values[0]\n",
    "\n",
    "filter_2023 = (fd_plot['Year'] == 2023) & (fd_plot['farm_share'] == 'Farm share')\n",
    "farm_share_2023 = fd_plot[filter_2023]['Value'].values[0]\n",
    "pct_change = np.round((farm_share_2023 - farm_share_1993) / farm_share_1993 * 100, 4)\n",
    "\n",
    "print(f''' Percentage change in Farm Share from 1993 to 2023: {pct_change}%''')"
   ]
  },
  {
   "cell_type": "code",
   "execution_count": null,
   "id": "c8c0f4f4",
   "metadata": {},
   "outputs": [],
   "source": [
    "marketing_share_to_farm_share = fd_plot.loc[fd_plot['Year'] == 2023]['Value'].values[1]/fd_plot.loc[fd_plot['Year'] == 2023]['Value'].values[0]\n",
    "print(f'''In 2023, the marketing share is {np.round(marketing_share_to_farm_share, 2)} times the farm share.''')"
   ]
  }
 ],
 "metadata": {
  "kernelspec": {
   "display_name": "ds-base",
   "language": "python",
   "name": "python3"
  },
  "language_info": {
   "codemirror_mode": {
    "name": "ipython",
    "version": 3
   },
   "file_extension": ".py",
   "mimetype": "text/x-python",
   "name": "python",
   "nbconvert_exporter": "python",
   "pygments_lexer": "ipython3",
   "version": "3.12.11"
  }
 },
 "nbformat": 4,
 "nbformat_minor": 5
}
