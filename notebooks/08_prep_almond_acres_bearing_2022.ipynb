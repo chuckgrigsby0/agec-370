{
 "cells": [
  {
   "cell_type": "markdown",
   "id": "3c13e299",
   "metadata": {},
   "source": [
    "Notebook to obtain state-level almonds area harevested data for 2022 from NASS Quick Stats."
   ]
  },
  {
   "cell_type": "code",
   "execution_count": null,
   "id": "e2303585",
   "metadata": {},
   "outputs": [],
   "source": [
    "import pandas as pd\n",
    "import requests\n",
    "from dotenv import load_dotenv\n",
    "import sys \n",
    "from pathlib import Path\n",
    "import os\n",
    "\n",
    "# ------------------------------ #\n",
    "# Must run together to access NASS API key\n",
    "# ------------------------------ #\n",
    "src_path = Path.cwd() / 'src'\n",
    "sys.path.insert(0, str(src_path))\n",
    "from utils.nass_api import NASS_API_KEY\n",
    "# ------------------------------ #"
   ]
  },
  {
   "cell_type": "markdown",
   "id": "50da73ef",
   "metadata": {},
   "source": [
    "### Almonds"
   ]
  },
  {
   "cell_type": "code",
   "execution_count": null,
   "id": "8e689427",
   "metadata": {},
   "outputs": [],
   "source": [
    "base_url = \"https://quickstats.nass.usda.gov/api/api_GET/\"\n",
    "\n",
    "params = {'key': NASS_API_KEY,\n",
    "          'source_desc': 'CENSUS',\n",
    "          'sector_desc': 'CROPS',\n",
    "          'group_desc': 'FRUIT & TREE NUTS',\n",
    "          'commodity_desc': 'ALMONDS',\n",
    "          'statisticcat_desc': 'AREA BEARING',\n",
    "          'short_desc': 'ALMONDS - ACRES BEARING',\n",
    "          'domain_desc': 'TOTAL',\n",
    "          'agg_level_desc': 'STATE', \n",
    "          'year': '2022'\n",
    "         }\n",
    "\n",
    "response = requests.get(base_url, params=params)\n",
    "\n",
    "almonds = response.json()\n",
    "\n",
    "almonds = pd.DataFrame(almonds['data'])"
   ]
  },
  {
   "cell_type": "markdown",
   "id": "b4026364",
   "metadata": {},
   "source": [
    "### Select relevant columns and clean `Value` column"
   ]
  },
  {
   "cell_type": "code",
   "execution_count": null,
   "id": "07312e03",
   "metadata": {},
   "outputs": [],
   "source": [
    "select_vars = ['year', 'state_name', 'state_fips_code', 'unit_desc', 'sector_desc',  'class_desc', 'commodity_desc', 'short_desc', 'statisticcat_desc', 'Value']"
   ]
  },
  {
   "cell_type": "markdown",
   "id": "571eb0fe",
   "metadata": {},
   "source": [
    "### Prepare almond data"
   ]
  },
  {
   "cell_type": "code",
   "execution_count": null,
   "id": "2bf24658",
   "metadata": {},
   "outputs": [],
   "source": [
    "almonds = almonds.loc[:, select_vars]\n"
   ]
  },
  {
   "cell_type": "markdown",
   "id": "c0f18c8b",
   "metadata": {},
   "source": [
    "Convert any non-numeric values (like \"(D)\" for suppressed data) to 0. "
   ]
  },
  {
   "cell_type": "code",
   "execution_count": null,
   "id": "06dfa2d5",
   "metadata": {},
   "outputs": [],
   "source": [
    "almonds['Value'].str.strip().eq(\"(D)\").any()"
   ]
  },
  {
   "cell_type": "code",
   "execution_count": null,
   "id": "5f81c38c",
   "metadata": {},
   "outputs": [],
   "source": [
    "# Handle multiple possible issues at once\n",
    "almonds['Value'] = (almonds['Value']\n",
    "                           .str.strip()\n",
    "                           .str.replace(\",\", \"\", regex=False)\n",
    "                           .replace(\"(D)\", \"0\")\n",
    "                           .replace(\"(Z)\", \"0\")\n",
    "                           .replace(\"\", \"0\")  # handle empty strings if any\n",
    "                           .astype(float))"
   ]
  },
  {
   "cell_type": "markdown",
   "id": "20e875cc",
   "metadata": {},
   "source": [
    "Check for missing values in the `Value` column. "
   ]
  },
  {
   "cell_type": "code",
   "execution_count": null,
   "id": "450e37c5",
   "metadata": {},
   "outputs": [],
   "source": [
    "print(f'''There are {almonds['Value'].isna().sum()} missing values in the 'Value' column.''')\n",
    "# Drop any rows with missing values\n",
    "# This removes any observations where the value was suppressed or missing\n",
    "# almonds = almonds.dropna(subset=['Value'])"
   ]
  },
  {
   "cell_type": "markdown",
   "id": "2eb9dfde",
   "metadata": {},
   "source": [
    "### Save to CSV"
   ]
  },
  {
   "cell_type": "code",
   "execution_count": null,
   "id": "73c3e4bb",
   "metadata": {},
   "outputs": [],
   "source": [
    "# Save csv\n",
    "almonds.to_csv('data/almonds_acres_bearing_nass_2022.csv', index=False)"
   ]
  }
 ],
 "metadata": {
  "kernelspec": {
   "display_name": "ds-base",
   "language": "python",
   "name": "python3"
  },
  "language_info": {
   "codemirror_mode": {
    "name": "ipython",
    "version": 3
   },
   "file_extension": ".py",
   "mimetype": "text/x-python",
   "name": "python",
   "nbconvert_exporter": "python",
   "pygments_lexer": "ipython3",
   "version": "3.12.12"
  }
 },
 "nbformat": 4,
 "nbformat_minor": 5
}
